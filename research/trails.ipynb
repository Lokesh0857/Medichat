{
 "cells": [
  {
   "cell_type": "code",
   "execution_count": 3,
   "metadata": {},
   "outputs": [
    {
     "name": "stdout",
     "output_type": "stream",
     "text": [
      "ok\n"
     ]
    }
   ],
   "source": [
    "print(\"ok\")"
   ]
  },
  {
   "cell_type": "code",
   "execution_count": 4,
   "metadata": {},
   "outputs": [
    {
     "data": {
      "text/plain": [
       "'c:\\\\Users\\\\lokes\\\\Medichat\\\\research'"
      ]
     },
     "execution_count": 4,
     "metadata": {},
     "output_type": "execute_result"
    }
   ],
   "source": [
    "%pwd"
   ]
  },
  {
   "cell_type": "code",
   "execution_count": 5,
   "metadata": {},
   "outputs": [],
   "source": [
    "import os\n",
    "os.chdir(\"../\")"
   ]
  },
  {
   "cell_type": "code",
   "execution_count": 6,
   "metadata": {},
   "outputs": [
    {
     "data": {
      "text/plain": [
       "'c:\\\\Users\\\\lokes\\\\Medichat'"
      ]
     },
     "execution_count": 6,
     "metadata": {},
     "output_type": "execute_result"
    }
   ],
   "source": [
    "%pwd"
   ]
  },
  {
   "cell_type": "code",
   "execution_count": 7,
   "metadata": {},
   "outputs": [],
   "source": [
    "from langchain.document_loaders import PyPDFLoader, DirectoryLoader\n",
    "from langchain.text_splitter import RecursiveCharacterTextSplitter"
   ]
  },
  {
   "cell_type": "code",
   "execution_count": 8,
   "metadata": {},
   "outputs": [],
   "source": [
    "#Extract Data From the PDF File\n",
    "def load_pdf_file(data):\n",
    "    loader=DirectoryLoader(data,\n",
    "                           glob=\"*.pdf\",\n",
    "                           loader_cls=PyPDFLoader)\n",
    "    \n",
    "    documents=loader.load()\n",
    "    \n",
    "    return documents"
   ]
  },
  {
   "cell_type": "code",
   "execution_count": 9,
   "metadata": {},
   "outputs": [],
   "source": [
    "extracted_data=load_pdf_file(data='Data/')"
   ]
  },
  {
   "cell_type": "code",
   "execution_count": 10,
   "metadata": {},
   "outputs": [],
   "source": [
    "# extracted_data"
   ]
  },
  {
   "cell_type": "code",
   "execution_count": 11,
   "metadata": {},
   "outputs": [],
   "source": [
    "#Split the Data into Text Chunks\n",
    "def text_split(extracted_data):\n",
    "    text_splitter=RecursiveCharacterTextSplitter(chunk_size=500, chunk_overlap=20)\n",
    "    text_chunks=text_splitter.split_documents(extracted_data)\n",
    "    return text_chunks"
   ]
  },
  {
   "cell_type": "code",
   "execution_count": 12,
   "metadata": {},
   "outputs": [
    {
     "name": "stdout",
     "output_type": "stream",
     "text": [
      "Length of Text Chunks 5860\n"
     ]
    }
   ],
   "source": [
    "text_chunks=text_split(extracted_data)\n",
    "print(\"Length of Text Chunks\", len(text_chunks))"
   ]
  },
  {
   "cell_type": "code",
   "execution_count": 13,
   "metadata": {},
   "outputs": [],
   "source": [
    "# text_chunks"
   ]
  },
  {
   "cell_type": "code",
   "execution_count": 14,
   "metadata": {},
   "outputs": [],
   "source": [
    "from langchain.embeddings import HuggingFaceEmbeddings"
   ]
  },
  {
   "cell_type": "code",
   "execution_count": 15,
   "metadata": {},
   "outputs": [],
   "source": [
    "#Download the Embeddings from Hugging Face\n",
    "def download_hugging_face_embeddings():\n",
    "    embeddings=HuggingFaceEmbeddings(model_name='sentence-transformers/all-MiniLM-L6-v2')\n",
    "    return embeddings"
   ]
  },
  {
   "cell_type": "code",
   "execution_count": 16,
   "metadata": {},
   "outputs": [
    {
     "name": "stderr",
     "output_type": "stream",
     "text": [
      "C:\\Users\\lokes\\AppData\\Local\\Temp\\ipykernel_22492\\2661704553.py:3: LangChainDeprecationWarning: The class `HuggingFaceEmbeddings` was deprecated in LangChain 0.2.2 and will be removed in 1.0. An updated version of the class exists in the :class:`~langchain-huggingface package and should be used instead. To use it run `pip install -U :class:`~langchain-huggingface` and import as `from :class:`~langchain_huggingface import HuggingFaceEmbeddings``.\n",
      "  embeddings=HuggingFaceEmbeddings(model_name='sentence-transformers/all-MiniLM-L6-v2')\n"
     ]
    }
   ],
   "source": [
    "embeddings=download_hugging_face_embeddings()"
   ]
  },
  {
   "cell_type": "code",
   "execution_count": 17,
   "metadata": {},
   "outputs": [
    {
     "name": "stdout",
     "output_type": "stream",
     "text": [
      "Length 384\n"
     ]
    }
   ],
   "source": [
    "query_result = embeddings.embed_query(\"Hello world\")\n",
    "print(\"Length\", len(query_result))"
   ]
  },
  {
   "cell_type": "code",
   "execution_count": 18,
   "metadata": {},
   "outputs": [],
   "source": [
    "#query_result"
   ]
  },
  {
   "cell_type": "code",
   "execution_count": 38,
   "metadata": {},
   "outputs": [
    {
     "data": {
      "text/plain": [
       "True"
      ]
     },
     "execution_count": 38,
     "metadata": {},
     "output_type": "execute_result"
    }
   ],
   "source": [
    "from dotenv import load_dotenv\n",
    "load_dotenv()"
   ]
  },
  {
   "cell_type": "code",
   "execution_count": 39,
   "metadata": {},
   "outputs": [],
   "source": [
    "PINECONE_API_KEY=os.environ.get('PINECONE_API_KEY')"
   ]
  },
  {
   "cell_type": "code",
   "execution_count": 21,
   "metadata": {},
   "outputs": [],
   "source": [
    "from pinecone.grpc import PineconeGRPC as Pinecone\n",
    "from pinecone import ServerlessSpec\n",
    "import os\n",
    "\n",
    "pc = Pinecone(api_key=PINECONE_API_KEY)\n",
    "\n",
    "index_name = \"mbot\"\n",
    "\n",
    "\n",
    "pc.create_index(\n",
    "    name=index_name,\n",
    "    dimension=384, \n",
    "    metric=\"cosine\", \n",
    "    spec=ServerlessSpec(\n",
    "        cloud=\"aws\", \n",
    "        region=\"us-east-1\"\n",
    "    ) \n",
    ") "
   ]
  },
  {
   "cell_type": "code",
   "execution_count": 40,
   "metadata": {},
   "outputs": [],
   "source": [
    "import os\n",
    "os.environ[\"PINECONE_API_KEY\"] = PINECONE_API_KEY"
   ]
  },
  {
   "cell_type": "code",
   "execution_count": 41,
   "metadata": {},
   "outputs": [],
   "source": [
    "# Embed each chunk and upsert the embeddings into your Pinecone index.\n",
    "from langchain_pinecone import PineconeVectorStore\n",
    "\n",
    "docsearch = PineconeVectorStore.from_documents(\n",
    "    documents=text_chunks,\n",
    "    index_name=index_name,\n",
    "    embedding=embeddings, \n",
    ")"
   ]
  },
  {
   "cell_type": "code",
   "execution_count": 42,
   "metadata": {},
   "outputs": [],
   "source": [
    "# Load Existing index \n",
    "\n",
    "from langchain_pinecone import PineconeVectorStore\n",
    "# Embed each chunk and upsert the embeddings into your Pinecone index.\n",
    "docsearch = PineconeVectorStore.from_existing_index(\n",
    "    index_name=index_name,\n",
    "    embedding=embeddings\n",
    ")"
   ]
  },
  {
   "cell_type": "code",
   "execution_count": 43,
   "metadata": {},
   "outputs": [
    {
     "data": {
      "text/plain": [
       "<langchain_pinecone.vectorstores.PineconeVectorStore at 0x1ce5af8bb00>"
      ]
     },
     "execution_count": 43,
     "metadata": {},
     "output_type": "execute_result"
    }
   ],
   "source": [
    "docsearch"
   ]
  },
  {
   "cell_type": "code",
   "execution_count": 44,
   "metadata": {},
   "outputs": [],
   "source": [
    "retriever = docsearch.as_retriever(search_type=\"similarity\", search_kwargs={\"k\":3})"
   ]
  },
  {
   "cell_type": "code",
   "execution_count": 45,
   "metadata": {},
   "outputs": [],
   "source": [
    "retrieved_docs = retriever.invoke(\"What is Acne?\")"
   ]
  },
  {
   "cell_type": "code",
   "execution_count": 46,
   "metadata": {},
   "outputs": [
    {
     "data": {
      "text/plain": [
       "[Document(id='ab9ebf4d-7169-407b-a2e5-8a3ef338e061', metadata={'page': 39.0, 'source': 'Data\\\\Medical_book.pdf'}, page_content='GALE ENCYCLOPEDIA OF MEDICINE 226\\nAcne\\nGEM - 0001 to 0432 - A  10/22/03 1:41 PM  Page 26'),\n",
       " Document(id='e1dd86a6-18de-4745-bf0e-15706e2f50a6', metadata={'page': 39.0, 'source': 'Data\\\\Medical_book.pdf'}, page_content='GALE ENCYCLOPEDIA OF MEDICINE 226\\nAcne\\nGEM - 0001 to 0432 - A  10/22/03 1:41 PM  Page 26'),\n",
       " Document(id='32bd864c-3920-45ee-8d72-93182b00a70b', metadata={'page': 38.0, 'source': 'Data\\\\Medical_book.pdf'}, page_content='GALE ENCYCLOPEDIA OF MEDICINE 2 25\\nAcne\\nAcne vulgaris affecting a woman’s face. Acne is the general\\nname given to a skin disorder in which the sebaceous\\nglands become inflamed.(Photograph by Biophoto Associ-\\nates, Photo Researchers, Inc. Reproduced by permission.)\\nGEM - 0001 to 0432 - A  10/22/03 1:41 PM  Page 25')]"
      ]
     },
     "execution_count": 46,
     "metadata": {},
     "output_type": "execute_result"
    }
   ],
   "source": [
    "retrieved_docs"
   ]
  },
  {
   "cell_type": "code",
   "execution_count": 47,
   "metadata": {},
   "outputs": [],
   "source": []
  },
  {
   "cell_type": "code",
   "execution_count": 1,
   "metadata": {},
   "outputs": [
    {
     "data": {
      "text/markdown": [
       "**LLM Response:**\n",
       "\n",
       "A pandas DataFrame is a two-dimensional labeled data structure with columns of potentially different types. It is similar to an Excel spreadsheet or a table in a relational database.\n",
       "\n",
       "DataFrame is a core data structure in the pandas library, which is widely used for data manipulation and analysis in Python. A DataFrame consists of rows and columns, where each column represents a variable or feature, and each row represents an observation or entry.\n",
       "\n",
       "Here are some key features of a pandas DataFrame:\n",
       "\n",
       "1. **Labeled axes**: Both rows and columns have labels (index and column name) that can be used to identify them.\n",
       "2. **Hierarchical index**: DataFrames can have hierarchical indices, where the inner index is subset of the outer index.\n",
       "3. **Data types**: Each column has a data type (e.g., int64, float64, object), which determines how the data is stored and manipulated.\n",
       "4. **Data alignment**: When performing operations on DataFrames, pandas aligns the data based on the row and column indices.\n",
       "5. **Handling missing values**: Pandas provides various ways to handle missing values, including dropping or filling them.\n",
       "\n",
       "Some common operations performed on DataFrames include:\n",
       "\n",
       "* Selecting specific columns or rows\n",
       "* Filtering data using conditions (e.g., selecting rows where a value is greater than 10)\n",
       "* Grouping and aggregating data\n",
       "* Merging and joining DataFrames\n",
       "* Sorting and pivoting data\n",
       "\n",
       "DataFrames are useful for various applications, such as:\n",
       "\n",
       "* Data analysis and visualization\n",
       "* Machine learning and data science\n",
       "* Business intelligence and reporting\n",
       "* Scientific computing and research\n",
       "\n",
       "Here's an example of creating a simple DataFrame:\n",
       "```python\n",
       "import pandas as pd\n",
       "\n",
       "# Create a dictionary with data\n",
       "data = {'Name': ['John', 'Anna', 'Peter'],\n",
       "        'Age': [28, 24, 35],\n",
       "        'Country': ['USA', 'UK', 'Australia']}\n",
       "\n",
       "# Convert the dictionary to a DataFrame\n",
       "df = pd.DataFrame(data)\n",
       "\n",
       "print(df)\n",
       "```\n",
       "Output:\n",
       "```\n",
       "     Name  Age    Country\n",
       "0   John   28       USA\n",
       "1   Anna   24         UK\n",
       "2  Peter   35  Australia\n",
       "```"
      ],
      "text/plain": [
       "<IPython.core.display.Markdown object>"
      ]
     },
     "metadata": {},
     "output_type": "display_data"
    }
   ],
   "source": [
    "import ollama\n",
    "from IPython.display import Markdown, display\n",
    "prompt=\"What is pandas dataframe?\" \n",
    "response= ollama.chat(model='llama3.2', messages=[{'role':'user','content':prompt}])\n",
    "response_content = response['message']['content']\n",
    "display(Markdown(f\"**LLM Response:**\\n\\n{response_content}\"))"
   ]
  },
  {
   "cell_type": "code",
   "execution_count": null,
   "metadata": {},
   "outputs": [],
   "source": []
  },
  {
   "cell_type": "code",
   "execution_count": 13,
   "metadata": {},
   "outputs": [
    {
     "data": {
      "text/markdown": [
       "**LLM Response (Streaming ):**\n",
       "\n",
       "Acne is a skin condition characterized by the occurrence of comedones (blackheads and whiteheads), pimples, cysts, and other types of lesions on the skin. It is a common problem that affects people of all ages, but it is most prevalent during puberty.\n",
       "\n",
       "There are several factors that contribute to acne, including:\n",
       "\n",
       "1. **Hormonal fluctuations**: Androgens, such as testosterone, can stimulate oil production in the skin, leading to clogged pores and inflammation.\n",
       "2. **Clogged pores**: Dead skin cells, oil, and bacteria can combine to form a blockage in the pore, which can lead to acne.\n",
       "3. **Bacteria**: A type of bacteria called Propionibacterium acnes (P. acnes) is naturally found on the skin and can contribute to acne by producing inflammation and clogged pores.\n",
       "4. **Genetics**: If your parents had acne, you are more likely to develop it as well.\n",
       "5. **Environmental factors**: Exposure to certain environmental toxins, such as pollution and stress, can also contribute to acne.\n",
       "\n",
       "There are several types of acne, including:\n",
       "\n",
       "1. **Whiteheads**: Small, white bumps on the skin that form when pores become clogged with dead skin cells and oil.\n",
       "2. **Blackheads**: Dark spots on the skin that form when pores become clogged with dead skin cells, oil, and bacteria.\n",
       "3. **Papules**: Small, pink bumps on the skin that form when pores become inflamed.\n",
       "4. **Pustules**: Red, pus-filled bumps on the skin that form when pores are infected with bacteria.\n",
       "5. **Cysts**: Large, painful bumps on the skin that form when pores become severely inflamed and infected.\n",
       "\n",
       "Acne can be treated with a variety of methods, including:\n",
       "\n",
       "1. **Topical treatments**: Creams, gels, or ointments applied directly to the affected area to help reduce inflammation and kill bacteria.\n",
       "2. **Oral antibiotics**: Antibiotics taken by mouth to help kill bacteria and reduce inflammation.\n",
       "3. **Hormonal treatments**: Birth control pills or spironolactone may be prescribed to help regulate hormonal imbalances that contribute to acne.\n",
       "4. **Blue light therapy**: A non-invasive treatment that uses blue light to kill bacteria and reduce inflammation.\n",
       "5. **Laser treatments**: Ablative and non-ablative laser treatments can help reduce inflammation, kill bacteria, and promote collagen production.\n",
       "\n",
       "If you are experiencing acne, it is essential to consult with a dermatologist or healthcare professional for proper diagnosis and treatment."
      ],
      "text/plain": [
       "<IPython.core.display.Markdown object>"
      ]
     },
     "metadata": {},
     "output_type": "display_data"
    }
   ],
   "source": [
    "import ollama\n",
    "from IPython.display import display,Markdown,clear_output\n",
    "prompt = \"what is Acne?\"\n",
    "response_stream= ollama.chat(\n",
    "    model='llama3.2',\n",
    "    messages = [{'role':'user', 'content': prompt}],\n",
    "    stream=True  \n",
    ")\n",
    "\n",
    "streamed_response = \"\"\n",
    "for token in response_stream:\n",
    "    streamed_response += token['message']['content']\n",
    "    clear_output(wait=True)\n",
    "    display(Markdown(f\"**LLM Response (Streaming ):**\\n\\n{streamed_response}\"))\n"
   ]
  },
  {
   "cell_type": "code",
   "execution_count": null,
   "metadata": {},
   "outputs": [
    {
     "name": "stdout",
     "output_type": "stream",
     "text": [
      "'text'\n"
     ]
    }
   ],
   "source": []
  }
 ],
 "metadata": {
  "kernelspec": {
   "display_name": "base",
   "language": "python",
   "name": "python3"
  },
  "language_info": {
   "codemirror_mode": {
    "name": "ipython",
    "version": 3
   },
   "file_extension": ".py",
   "mimetype": "text/x-python",
   "name": "python",
   "nbconvert_exporter": "python",
   "pygments_lexer": "ipython3",
   "version": "3.12.7"
  }
 },
 "nbformat": 4,
 "nbformat_minor": 2
}
