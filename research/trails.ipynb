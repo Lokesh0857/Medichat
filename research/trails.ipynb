{
 "cells": [
  {
   "cell_type": "code",
   "execution_count": 14,
   "metadata": {},
   "outputs": [
    {
     "name": "stdout",
     "output_type": "stream",
     "text": [
      "ok\n"
     ]
    }
   ],
   "source": [
    "print(\"ok\")"
   ]
  },
  {
   "cell_type": "code",
   "execution_count": 15,
   "metadata": {},
   "outputs": [
    {
     "data": {
      "text/plain": [
       "'c:\\\\Users\\\\lokes\\\\Medichat\\\\research'"
      ]
     },
     "execution_count": 15,
     "metadata": {},
     "output_type": "execute_result"
    }
   ],
   "source": [
    "%pwd"
   ]
  },
  {
   "cell_type": "code",
   "execution_count": 16,
   "metadata": {},
   "outputs": [],
   "source": [
    "import os\n",
    "os.chdir(\"../\")"
   ]
  },
  {
   "cell_type": "code",
   "execution_count": 17,
   "metadata": {},
   "outputs": [
    {
     "data": {
      "text/plain": [
       "'c:\\\\Users\\\\lokes\\\\Medichat'"
      ]
     },
     "execution_count": 17,
     "metadata": {},
     "output_type": "execute_result"
    }
   ],
   "source": [
    "%pwd"
   ]
  },
  {
   "cell_type": "code",
   "execution_count": 18,
   "metadata": {},
   "outputs": [],
   "source": [
    "from langchain.document_loaders import PyPDFLoader, DirectoryLoader\n",
    "from langchain.text_splitter import RecursiveCharacterTextSplitter"
   ]
  },
  {
   "cell_type": "code",
   "execution_count": 19,
   "metadata": {},
   "outputs": [],
   "source": [
    "#Extract Data From the PDF File\n",
    "def load_pdf_file(data):\n",
    "    loader=DirectoryLoader(data,\n",
    "                           glob=\"*.pdf\",\n",
    "                           loader_cls=PyPDFLoader)\n",
    "    \n",
    "    documents=loader.load()\n",
    "    \n",
    "    return documents"
   ]
  },
  {
   "cell_type": "code",
   "execution_count": 20,
   "metadata": {},
   "outputs": [],
   "source": [
    "extracted_data=load_pdf_file(data='Data/')"
   ]
  },
  {
   "cell_type": "code",
   "execution_count": 21,
   "metadata": {},
   "outputs": [],
   "source": [
    "# extracted_data"
   ]
  },
  {
   "cell_type": "code",
   "execution_count": 22,
   "metadata": {},
   "outputs": [],
   "source": [
    "#Split the Data into Text Chunks\n",
    "def text_split(extracted_data):\n",
    "    text_splitter=RecursiveCharacterTextSplitter(chunk_size=500, chunk_overlap=20)\n",
    "    text_chunks=text_splitter.split_documents(extracted_data)\n",
    "    return text_chunks"
   ]
  },
  {
   "cell_type": "code",
   "execution_count": 23,
   "metadata": {},
   "outputs": [
    {
     "name": "stdout",
     "output_type": "stream",
     "text": [
      "Length of Text Chunks 5860\n"
     ]
    }
   ],
   "source": [
    "text_chunks=text_split(extracted_data)\n",
    "print(\"Length of Text Chunks\", len(text_chunks))"
   ]
  },
  {
   "cell_type": "code",
   "execution_count": 24,
   "metadata": {},
   "outputs": [],
   "source": [
    "# text_chunks"
   ]
  },
  {
   "cell_type": "code",
   "execution_count": 25,
   "metadata": {},
   "outputs": [],
   "source": [
    "from langchain.embeddings import HuggingFaceEmbeddings"
   ]
  },
  {
   "cell_type": "code",
   "execution_count": 26,
   "metadata": {},
   "outputs": [],
   "source": [
    "#Download the Embeddings from Hugging Face\n",
    "def download_hugging_face_embeddings():\n",
    "    embeddings=HuggingFaceEmbeddings(model_name='sentence-transformers/all-MiniLM-L6-v2')\n",
    "    return embeddings"
   ]
  },
  {
   "cell_type": "code",
   "execution_count": 27,
   "metadata": {},
   "outputs": [
    {
     "name": "stderr",
     "output_type": "stream",
     "text": [
      "C:\\Users\\lokes\\AppData\\Local\\Temp\\ipykernel_16344\\2661704553.py:3: LangChainDeprecationWarning: The class `HuggingFaceEmbeddings` was deprecated in LangChain 0.2.2 and will be removed in 1.0. An updated version of the class exists in the :class:`~langchain-huggingface package and should be used instead. To use it run `pip install -U :class:`~langchain-huggingface` and import as `from :class:`~langchain_huggingface import HuggingFaceEmbeddings``.\n",
      "  embeddings=HuggingFaceEmbeddings(model_name='sentence-transformers/all-MiniLM-L6-v2')\n"
     ]
    }
   ],
   "source": [
    "embeddings=download_hugging_face_embeddings()"
   ]
  },
  {
   "cell_type": "code",
   "execution_count": 28,
   "metadata": {},
   "outputs": [
    {
     "name": "stdout",
     "output_type": "stream",
     "text": [
      "Length 384\n"
     ]
    }
   ],
   "source": [
    "query_result = embeddings.embed_query(\"Hello world\")\n",
    "print(\"Length\", len(query_result))"
   ]
  },
  {
   "cell_type": "code",
   "execution_count": 29,
   "metadata": {},
   "outputs": [],
   "source": [
    "#query_result"
   ]
  },
  {
   "cell_type": "code",
   "execution_count": 30,
   "metadata": {},
   "outputs": [
    {
     "data": {
      "text/plain": [
       "True"
      ]
     },
     "execution_count": 30,
     "metadata": {},
     "output_type": "execute_result"
    }
   ],
   "source": [
    "from dotenv import load_dotenv\n",
    "load_dotenv()"
   ]
  },
  {
   "cell_type": "code",
   "execution_count": 31,
   "metadata": {},
   "outputs": [],
   "source": [
    "PINECONE_API_KEY=os.environ.get('PINECONE_API_KEY')"
   ]
  },
  {
   "cell_type": "code",
   "execution_count": 32,
   "metadata": {},
   "outputs": [],
   "source": [
    "from pinecone.grpc import PineconeGRPC as Pinecone\n",
    "from pinecone import ServerlessSpec\n",
    "import os\n",
    "\n",
    "pc = Pinecone(api_key=PINECONE_API_KEY)\n",
    "\n",
    "index_name = \"mbot\"\n",
    "\n",
    "\n",
    "pc.create_index(\n",
    "    name=index_name,\n",
    "    dimension=384, \n",
    "    metric=\"cosine\", \n",
    "    spec=ServerlessSpec(\n",
    "        cloud=\"aws\", \n",
    "        region=\"us-east-1\"\n",
    "    ) \n",
    ") "
   ]
  },
  {
   "cell_type": "code",
   "execution_count": 33,
   "metadata": {},
   "outputs": [],
   "source": [
    "import os\n",
    "os.environ[\"PINECONE_API_KEY\"] = PINECONE_API_KEY"
   ]
  },
  {
   "cell_type": "code",
   "execution_count": 34,
   "metadata": {},
   "outputs": [],
   "source": [
    "# Embed each chunk and upsert the embeddings into your Pinecone index.\n",
    "from langchain_pinecone import PineconeVectorStore\n",
    "\n",
    "docsearch = PineconeVectorStore.from_documents(\n",
    "    documents=text_chunks,\n",
    "    index_name=index_name,\n",
    "    embedding=embeddings, \n",
    ")"
   ]
  },
  {
   "cell_type": "code",
   "execution_count": 35,
   "metadata": {},
   "outputs": [],
   "source": [
    "# Load Existing index \n",
    "\n",
    "from langchain_pinecone import PineconeVectorStore\n",
    "# Embed each chunk and upsert the embeddings into your Pinecone index.\n",
    "docsearch = PineconeVectorStore.from_existing_index(\n",
    "    index_name=index_name,\n",
    "    embedding=embeddings\n",
    ")"
   ]
  },
  {
   "cell_type": "code",
   "execution_count": 36,
   "metadata": {},
   "outputs": [
    {
     "data": {
      "text/plain": [
       "<langchain_pinecone.vectorstores.PineconeVectorStore at 0x1cf9fcf32c0>"
      ]
     },
     "execution_count": 36,
     "metadata": {},
     "output_type": "execute_result"
    }
   ],
   "source": [
    "docsearch"
   ]
  },
  {
   "cell_type": "code",
   "execution_count": 37,
   "metadata": {},
   "outputs": [],
   "source": [
    "retriever = docsearch.as_retriever(search_type=\"similarity\", search_kwargs={\"k\":3})"
   ]
  },
  {
   "cell_type": "code",
   "execution_count": 38,
   "metadata": {},
   "outputs": [],
   "source": [
    "retrieved_docs = retriever.invoke(\"What is Acne?\")"
   ]
  },
  {
   "cell_type": "code",
   "execution_count": 39,
   "metadata": {},
   "outputs": [
    {
     "data": {
      "text/plain": [
       "[Document(id='34a89627-66ca-43ca-a869-213ada7a50e8', metadata={'page': 39.0, 'source': 'Data\\\\Medical_book.pdf'}, page_content='GALE ENCYCLOPEDIA OF MEDICINE 226\\nAcne\\nGEM - 0001 to 0432 - A  10/22/03 1:41 PM  Page 26'),\n",
       " Document(id='a7b7a251-88c4-414b-ac5c-b04f38a4a833', metadata={'page': 38.0, 'source': 'Data\\\\Medical_book.pdf'}, page_content='GALE ENCYCLOPEDIA OF MEDICINE 2 25\\nAcne\\nAcne vulgaris affecting a woman’s face. Acne is the general\\nname given to a skin disorder in which the sebaceous\\nglands become inflamed.(Photograph by Biophoto Associ-\\nates, Photo Researchers, Inc. Reproduced by permission.)\\nGEM - 0001 to 0432 - A  10/22/03 1:41 PM  Page 25'),\n",
       " Document(id='14bb833b-3b52-434c-94ac-8a6a399272a7', metadata={'page': 37.0, 'source': 'Data\\\\Medical_book.pdf'}, page_content='Acidosis see Respiratory acidosis; Renal\\ntubular acidosis; Metabolic acidosis\\nAcne\\nDefinition\\nAcne is a common skin disease characterized by\\npimples on the face, chest, and back. It occurs when the\\npores of the skin become clogged with oil, dead skin\\ncells, and bacteria.\\nDescription\\nAcne vulgaris, the medical term for common acne, is\\nthe most common skin disease. It affects nearly 17 million\\npeople in the United States. While acne can arise at any')]"
      ]
     },
     "execution_count": 39,
     "metadata": {},
     "output_type": "execute_result"
    }
   ],
   "source": [
    "retrieved_docs"
   ]
  },
  {
   "cell_type": "code",
   "execution_count": 47,
   "metadata": {},
   "outputs": [],
   "source": []
  },
  {
   "cell_type": "code",
   "execution_count": 40,
   "metadata": {},
   "outputs": [
    {
     "data": {
      "text/markdown": [
       "**LLM Response:**\n",
       "\n",
       "**Pandas DataFrames**\n",
       "\n",
       "A Pandas DataFrame is a two-dimensional table of data with rows and columns, similar to an Excel spreadsheet or a SQL database table. It's a fundamental data structure in the Pandas library, which is widely used for data manipulation and analysis in Python.\n",
       "\n",
       "**Key Characteristics:**\n",
       "\n",
       "1. **Tabular structure**: DataFrames are composed of rows and columns, making it easy to visualize and manipulate data.\n",
       "2. **Data types**: Each column can have a different data type, such as integers, floats, strings, or dates.\n",
       "3. **Flexible data**: DataFrames can store various data types, including nested structures like lists or dictionaries.\n",
       "\n",
       "**Example Use Cases:**\n",
       "\n",
       "1. **Data analysis**: Load and manipulate datasets for data analysis, visualization, and reporting.\n",
       "2. **Data cleaning and preprocessing**: Clean and preprocess data by handling missing values, converting data types, and merging datasets.\n",
       "3. **Data storage and retrieval**: Store and retrieve data efficiently using DataFrames.\n",
       "\n",
       "**Basic Operations:**\n",
       "\n",
       "1. **Creating a DataFrame**: Use the `pd.DataFrame()` constructor or the `pd.read_csv()` function to create a new DataFrame from a CSV file or other data sources.\n",
       "2. **Selecting data**: Use indexing, slicing, or label-based selection to extract specific rows and columns.\n",
       "3. **Filtering data**: Apply conditional statements using boolean operations (e.g., `df[df['age'] > 30]`) to filter rows based on conditions.\n",
       "\n",
       "**Example Code:**\n",
       "```python\n",
       "import pandas as pd\n",
       "\n",
       "# Create a sample DataFrame\n",
       "data = {'Name': ['John', 'Mary', 'David'],\n",
       "        'Age': [25, 31, 42],\n",
       "        'Country': ['USA', 'UK', 'Canada']}\n",
       "df = pd.DataFrame(data)\n",
       "\n",
       "print(df)\n",
       "```\n",
       "Output:\n",
       "```\n",
       "     Name  Age    Country\n",
       "0    John   25       USA\n",
       "1    Mary   31         UK\n",
       "2   David   42    Canada\n",
       "```\n",
       "In this example, we create a simple DataFrame with three columns and three rows. We can then manipulate the data using various Pandas functions and methods.\n",
       "\n",
       "**Tips and Tricks:**\n",
       "\n",
       "* Use `df.head()` to display the first few rows of a DataFrame.\n",
       "* Use `df.info()` to get an overview of the DataFrame's structure and memory usage.\n",
       "* Use `df.describe()` to calculate summary statistics for numeric columns."
      ],
      "text/plain": [
       "<IPython.core.display.Markdown object>"
      ]
     },
     "metadata": {},
     "output_type": "display_data"
    }
   ],
   "source": [
    "import ollama\n",
    "from IPython.display import Markdown, display\n",
    "prompt=\"What is pandas dataframe?\" \n",
    "response= ollama.chat(model='llama3.2', messages=[{'role':'user','content':prompt}])\n",
    "response_content = response['message']['content']\n",
    "display(Markdown(f\"**LLM Response:**\\n\\n{response_content}\"))"
   ]
  },
  {
   "cell_type": "code",
   "execution_count": null,
   "metadata": {},
   "outputs": [],
   "source": []
  },
  {
   "cell_type": "code",
   "execution_count": 41,
   "metadata": {},
   "outputs": [
    {
     "data": {
      "text/markdown": [
       "**LLM Response (Streaming ):**\n",
       "\n",
       "Acne is a skin condition characterized by the occurrence of comedones (blackheads and whiteheads), pimples, cysts, and inflammatory lesions on the skin. It affects both children and adults, with the peak age range being adolescence to early adulthood.\n",
       "\n",
       "Causes of Acne:\n",
       "\n",
       "1. **Hormonal changes**: Fluctuations in hormone levels, particularly androgens (male hormones), can lead to increased sebum production, clogged pores, and inflammation.\n",
       "2. **Bacteria**: A type of bacteria called Propionibacterium acnes (P. acnes) is naturally present on the skin and can contribute to acne.\n",
       "3. **Clogged pores**: Dead skin cells, oil, and other debris can combine to form a plug in the pore, leading to clogged pores and acne.\n",
       "4. **Genetics**: Family history and genetic predisposition can play a role in the development of acne.\n",
       "5. **Stress**: Stress can increase hormone production and lead to inflammation, which can exacerbate acne.\n",
       "\n",
       "Symptoms of Acne:\n",
       "\n",
       "1. **Comedones** (blackheads and whiteheads): Small bumps on the skin that are usually black or white in color.\n",
       "2. **Pimples**: Red, inflamed bumps on the skin that can be painful and tender.\n",
       "3. **Cysts**: Large, painful bumps under the skin that may leave scars after they heal.\n",
       "4. **Inflammatory lesions**: Red, swollen areas on the skin that can be painful and itchy.\n",
       "\n",
       "Types of Acne:\n",
       "\n",
       "1. **Primary acne**: The most common type of acne, characterized by comedones and pimples.\n",
       "2. **Secondary acne**: Acne that develops in response to other medical conditions, such as hormonal imbalances or inflammatory disorders.\n",
       "3. **Keratosis pilaris**: A condition characterized by small, rough bumps on the skin, often associated with acne.\n",
       "\n",
       "Treatment of Acne:\n",
       "\n",
       "1. **Topical treatments**: Creams and gels containing salicylic acid, benzoyl peroxide, or sulfur can help to unclog pores and reduce inflammation.\n",
       "2. **Oral medications**: Antibiotics, retinoids, and hormonal therapies may be prescribed to manage acne.\n",
       "3. **Lifestyle changes**: Maintaining a healthy diet, staying hydrated, exercising regularly, and managing stress can help to prevent acne.\n",
       "\n",
       "If you're experiencing acne, it's essential to consult with a dermatologist or healthcare professional for proper diagnosis and treatment."
      ],
      "text/plain": [
       "<IPython.core.display.Markdown object>"
      ]
     },
     "metadata": {},
     "output_type": "display_data"
    }
   ],
   "source": [
    "import ollama\n",
    "from IPython.display import display,Markdown,clear_output\n",
    "prompt = \"what is Acne?\"\n",
    "response_stream= ollama.chat(\n",
    "    model='llama3.2',\n",
    "    messages = [{'role':'user', 'content': prompt}],\n",
    "    stream=True  \n",
    ")\n",
    "\n",
    "streamed_response = \"\"\n",
    "for token in response_stream:\n",
    "    streamed_response += token['message']['content']\n",
    "    clear_output(wait=True)\n",
    "    display(Markdown(f\"**LLM Response (Streaming ):**\\n\\n{streamed_response}\"))\n"
   ]
  },
  {
   "cell_type": "code",
   "execution_count": null,
   "metadata": {},
   "outputs": [],
   "source": []
  }
 ],
 "metadata": {
  "kernelspec": {
   "display_name": "base",
   "language": "python",
   "name": "python3"
  },
  "language_info": {
   "codemirror_mode": {
    "name": "ipython",
    "version": 3
   },
   "file_extension": ".py",
   "mimetype": "text/x-python",
   "name": "python",
   "nbconvert_exporter": "python",
   "pygments_lexer": "ipython3",
   "version": "3.12.7"
  }
 },
 "nbformat": 4,
 "nbformat_minor": 2
}
